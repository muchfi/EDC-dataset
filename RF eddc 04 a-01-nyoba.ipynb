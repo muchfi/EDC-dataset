{
 "cells": [
  {
   "cell_type": "markdown",
   "id": "4b4d8e53",
   "metadata": {},
   "source": [
    "# Preparing data"
   ]
  },
  {
   "cell_type": "code",
   "execution_count": 1,
   "id": "77a44c35",
   "metadata": {},
   "outputs": [],
   "source": [
    "import pandas as pd\n",
    "import numpy as np\n",
    "import seaborn as sns\n",
    "import matplotlib.pyplot as plt\n",
    "%matplotlib inline"
   ]
  },
  {
   "cell_type": "code",
   "execution_count": 2,
   "id": "2c86789f",
   "metadata": {},
   "outputs": [],
   "source": [
    "data = pd.read_csv('dataset edc phyc bias.csv')"
   ]
  },
  {
   "cell_type": "code",
   "execution_count": 3,
   "id": "7c26e211",
   "metadata": {},
   "outputs": [
    {
     "data": {
      "text/html": [
       "<div>\n",
       "<style scoped>\n",
       "    .dataframe tbody tr th:only-of-type {\n",
       "        vertical-align: middle;\n",
       "    }\n",
       "\n",
       "    .dataframe tbody tr th {\n",
       "        vertical-align: top;\n",
       "    }\n",
       "\n",
       "    .dataframe thead th {\n",
       "        text-align: right;\n",
       "    }\n",
       "</style>\n",
       "<table border=\"1\" class=\"dataframe\">\n",
       "  <thead>\n",
       "    <tr style=\"text-align: right;\">\n",
       "      <th></th>\n",
       "      <th>Jalur masuk</th>\n",
       "      <th>UKT</th>\n",
       "      <th>BEA</th>\n",
       "      <th>1</th>\n",
       "      <th>2</th>\n",
       "      <th>3</th>\n",
       "      <th>4</th>\n",
       "      <th>5</th>\n",
       "      <th>6</th>\n",
       "      <th>7</th>\n",
       "      <th>IPK</th>\n",
       "      <th>Lama studi</th>\n",
       "    </tr>\n",
       "  </thead>\n",
       "  <tbody>\n",
       "    <tr>\n",
       "      <th>0</th>\n",
       "      <td>1</td>\n",
       "      <td>4</td>\n",
       "      <td>0</td>\n",
       "      <td>3.54</td>\n",
       "      <td>3.37</td>\n",
       "      <td>3.20</td>\n",
       "      <td>3.34</td>\n",
       "      <td>3.49</td>\n",
       "      <td>3.17</td>\n",
       "      <td>3.90</td>\n",
       "      <td>3.37</td>\n",
       "      <td>0.0</td>\n",
       "    </tr>\n",
       "    <tr>\n",
       "      <th>1</th>\n",
       "      <td>1</td>\n",
       "      <td>6</td>\n",
       "      <td>0</td>\n",
       "      <td>3.44</td>\n",
       "      <td>3.56</td>\n",
       "      <td>3.48</td>\n",
       "      <td>3.56</td>\n",
       "      <td>3.62</td>\n",
       "      <td>3.19</td>\n",
       "      <td>4.00</td>\n",
       "      <td>3.50</td>\n",
       "      <td>5.0</td>\n",
       "    </tr>\n",
       "    <tr>\n",
       "      <th>2</th>\n",
       "      <td>2</td>\n",
       "      <td>4</td>\n",
       "      <td>0</td>\n",
       "      <td>3.69</td>\n",
       "      <td>3.61</td>\n",
       "      <td>3.38</td>\n",
       "      <td>3.71</td>\n",
       "      <td>3.51</td>\n",
       "      <td>3.22</td>\n",
       "      <td>4.00</td>\n",
       "      <td>3.54</td>\n",
       "      <td>4.5</td>\n",
       "    </tr>\n",
       "    <tr>\n",
       "      <th>3</th>\n",
       "      <td>1</td>\n",
       "      <td>4</td>\n",
       "      <td>0</td>\n",
       "      <td>3.07</td>\n",
       "      <td>3.40</td>\n",
       "      <td>1.94</td>\n",
       "      <td>3.30</td>\n",
       "      <td>3.67</td>\n",
       "      <td>3.55</td>\n",
       "      <td>3.83</td>\n",
       "      <td>3.35</td>\n",
       "      <td>0.0</td>\n",
       "    </tr>\n",
       "    <tr>\n",
       "      <th>4</th>\n",
       "      <td>1</td>\n",
       "      <td>4</td>\n",
       "      <td>0</td>\n",
       "      <td>3.28</td>\n",
       "      <td>3.68</td>\n",
       "      <td>3.53</td>\n",
       "      <td>3.73</td>\n",
       "      <td>3.78</td>\n",
       "      <td>3.27</td>\n",
       "      <td>4.00</td>\n",
       "      <td>3.57</td>\n",
       "      <td>4.0</td>\n",
       "    </tr>\n",
       "  </tbody>\n",
       "</table>\n",
       "</div>"
      ],
      "text/plain": [
       "   Jalur masuk  UKT  BEA     1     2     3     4     5     6     7   IPK  \\\n",
       "0            1    4    0  3.54  3.37  3.20  3.34  3.49  3.17  3.90  3.37   \n",
       "1            1    6    0  3.44  3.56  3.48  3.56  3.62  3.19  4.00  3.50   \n",
       "2            2    4    0  3.69  3.61  3.38  3.71  3.51  3.22  4.00  3.54   \n",
       "3            1    4    0  3.07  3.40  1.94  3.30  3.67  3.55  3.83  3.35   \n",
       "4            1    4    0  3.28  3.68  3.53  3.73  3.78  3.27  4.00  3.57   \n",
       "\n",
       "   Lama studi  \n",
       "0         0.0  \n",
       "1         5.0  \n",
       "2         4.5  \n",
       "3         0.0  \n",
       "4         4.0  "
      ]
     },
     "execution_count": 3,
     "metadata": {},
     "output_type": "execute_result"
    }
   ],
   "source": [
    "data.head()"
   ]
  },
  {
   "cell_type": "markdown",
   "id": "d1ae3236",
   "metadata": {},
   "source": [
    "# Corelation data"
   ]
  },
  {
   "cell_type": "code",
   "execution_count": 4,
   "id": "78870630",
   "metadata": {},
   "outputs": [
    {
     "data": {
      "text/html": [
       "<div>\n",
       "<style scoped>\n",
       "    .dataframe tbody tr th:only-of-type {\n",
       "        vertical-align: middle;\n",
       "    }\n",
       "\n",
       "    .dataframe tbody tr th {\n",
       "        vertical-align: top;\n",
       "    }\n",
       "\n",
       "    .dataframe thead th {\n",
       "        text-align: right;\n",
       "    }\n",
       "</style>\n",
       "<table border=\"1\" class=\"dataframe\">\n",
       "  <thead>\n",
       "    <tr style=\"text-align: right;\">\n",
       "      <th></th>\n",
       "      <th>Jalur masuk</th>\n",
       "      <th>UKT</th>\n",
       "      <th>BEA</th>\n",
       "      <th>1</th>\n",
       "      <th>2</th>\n",
       "      <th>3</th>\n",
       "      <th>4</th>\n",
       "      <th>5</th>\n",
       "      <th>6</th>\n",
       "      <th>7</th>\n",
       "      <th>IPK</th>\n",
       "      <th>Lama studi</th>\n",
       "    </tr>\n",
       "  </thead>\n",
       "  <tbody>\n",
       "    <tr>\n",
       "      <th>Jalur masuk</th>\n",
       "      <td>1.000000</td>\n",
       "      <td>0.431585</td>\n",
       "      <td>-0.321477</td>\n",
       "      <td>-0.027786</td>\n",
       "      <td>-0.161743</td>\n",
       "      <td>0.058656</td>\n",
       "      <td>-0.005524</td>\n",
       "      <td>-0.059475</td>\n",
       "      <td>0.163239</td>\n",
       "      <td>0.016772</td>\n",
       "      <td>0.038086</td>\n",
       "      <td>-0.009621</td>\n",
       "    </tr>\n",
       "    <tr>\n",
       "      <th>UKT</th>\n",
       "      <td>0.431585</td>\n",
       "      <td>1.000000</td>\n",
       "      <td>-0.515236</td>\n",
       "      <td>0.019307</td>\n",
       "      <td>-0.137027</td>\n",
       "      <td>-0.005010</td>\n",
       "      <td>-0.038423</td>\n",
       "      <td>-0.065260</td>\n",
       "      <td>0.128362</td>\n",
       "      <td>0.167345</td>\n",
       "      <td>0.007366</td>\n",
       "      <td>-0.025145</td>\n",
       "    </tr>\n",
       "    <tr>\n",
       "      <th>BEA</th>\n",
       "      <td>-0.321477</td>\n",
       "      <td>-0.515236</td>\n",
       "      <td>1.000000</td>\n",
       "      <td>-0.048090</td>\n",
       "      <td>0.122648</td>\n",
       "      <td>0.045549</td>\n",
       "      <td>0.066981</td>\n",
       "      <td>0.087360</td>\n",
       "      <td>-0.063918</td>\n",
       "      <td>-0.058322</td>\n",
       "      <td>0.027506</td>\n",
       "      <td>0.037420</td>\n",
       "    </tr>\n",
       "    <tr>\n",
       "      <th>1</th>\n",
       "      <td>-0.027786</td>\n",
       "      <td>0.019307</td>\n",
       "      <td>-0.048090</td>\n",
       "      <td>1.000000</td>\n",
       "      <td>0.532300</td>\n",
       "      <td>0.398534</td>\n",
       "      <td>0.148221</td>\n",
       "      <td>0.119599</td>\n",
       "      <td>0.180741</td>\n",
       "      <td>0.190433</td>\n",
       "      <td>0.498619</td>\n",
       "      <td>0.177560</td>\n",
       "    </tr>\n",
       "    <tr>\n",
       "      <th>2</th>\n",
       "      <td>-0.161743</td>\n",
       "      <td>-0.137027</td>\n",
       "      <td>0.122648</td>\n",
       "      <td>0.532300</td>\n",
       "      <td>1.000000</td>\n",
       "      <td>0.526870</td>\n",
       "      <td>0.276640</td>\n",
       "      <td>0.231984</td>\n",
       "      <td>0.343259</td>\n",
       "      <td>0.140614</td>\n",
       "      <td>0.630165</td>\n",
       "      <td>0.212571</td>\n",
       "    </tr>\n",
       "    <tr>\n",
       "      <th>3</th>\n",
       "      <td>0.058656</td>\n",
       "      <td>-0.005010</td>\n",
       "      <td>0.045549</td>\n",
       "      <td>0.398534</td>\n",
       "      <td>0.526870</td>\n",
       "      <td>1.000000</td>\n",
       "      <td>0.459174</td>\n",
       "      <td>0.358327</td>\n",
       "      <td>0.488300</td>\n",
       "      <td>0.204738</td>\n",
       "      <td>0.737372</td>\n",
       "      <td>0.161753</td>\n",
       "    </tr>\n",
       "    <tr>\n",
       "      <th>4</th>\n",
       "      <td>-0.005524</td>\n",
       "      <td>-0.038423</td>\n",
       "      <td>0.066981</td>\n",
       "      <td>0.148221</td>\n",
       "      <td>0.276640</td>\n",
       "      <td>0.459174</td>\n",
       "      <td>1.000000</td>\n",
       "      <td>0.779527</td>\n",
       "      <td>0.450784</td>\n",
       "      <td>0.514494</td>\n",
       "      <td>0.779987</td>\n",
       "      <td>0.169496</td>\n",
       "    </tr>\n",
       "    <tr>\n",
       "      <th>5</th>\n",
       "      <td>-0.059475</td>\n",
       "      <td>-0.065260</td>\n",
       "      <td>0.087360</td>\n",
       "      <td>0.119599</td>\n",
       "      <td>0.231984</td>\n",
       "      <td>0.358327</td>\n",
       "      <td>0.779527</td>\n",
       "      <td>1.000000</td>\n",
       "      <td>0.326375</td>\n",
       "      <td>0.403220</td>\n",
       "      <td>0.670270</td>\n",
       "      <td>0.189256</td>\n",
       "    </tr>\n",
       "    <tr>\n",
       "      <th>6</th>\n",
       "      <td>0.163239</td>\n",
       "      <td>0.128362</td>\n",
       "      <td>-0.063918</td>\n",
       "      <td>0.180741</td>\n",
       "      <td>0.343259</td>\n",
       "      <td>0.488300</td>\n",
       "      <td>0.450784</td>\n",
       "      <td>0.326375</td>\n",
       "      <td>1.000000</td>\n",
       "      <td>0.234874</td>\n",
       "      <td>0.738841</td>\n",
       "      <td>0.119688</td>\n",
       "    </tr>\n",
       "    <tr>\n",
       "      <th>7</th>\n",
       "      <td>0.016772</td>\n",
       "      <td>0.167345</td>\n",
       "      <td>-0.058322</td>\n",
       "      <td>0.190433</td>\n",
       "      <td>0.140614</td>\n",
       "      <td>0.204738</td>\n",
       "      <td>0.514494</td>\n",
       "      <td>0.403220</td>\n",
       "      <td>0.234874</td>\n",
       "      <td>1.000000</td>\n",
       "      <td>0.502039</td>\n",
       "      <td>-0.123613</td>\n",
       "    </tr>\n",
       "    <tr>\n",
       "      <th>IPK</th>\n",
       "      <td>0.038086</td>\n",
       "      <td>0.007366</td>\n",
       "      <td>0.027506</td>\n",
       "      <td>0.498619</td>\n",
       "      <td>0.630165</td>\n",
       "      <td>0.737372</td>\n",
       "      <td>0.779987</td>\n",
       "      <td>0.670270</td>\n",
       "      <td>0.738841</td>\n",
       "      <td>0.502039</td>\n",
       "      <td>1.000000</td>\n",
       "      <td>0.208597</td>\n",
       "    </tr>\n",
       "    <tr>\n",
       "      <th>Lama studi</th>\n",
       "      <td>-0.009621</td>\n",
       "      <td>-0.025145</td>\n",
       "      <td>0.037420</td>\n",
       "      <td>0.177560</td>\n",
       "      <td>0.212571</td>\n",
       "      <td>0.161753</td>\n",
       "      <td>0.169496</td>\n",
       "      <td>0.189256</td>\n",
       "      <td>0.119688</td>\n",
       "      <td>-0.123613</td>\n",
       "      <td>0.208597</td>\n",
       "      <td>1.000000</td>\n",
       "    </tr>\n",
       "  </tbody>\n",
       "</table>\n",
       "</div>"
      ],
      "text/plain": [
       "             Jalur masuk       UKT       BEA         1         2         3  \\\n",
       "Jalur masuk     1.000000  0.431585 -0.321477 -0.027786 -0.161743  0.058656   \n",
       "UKT             0.431585  1.000000 -0.515236  0.019307 -0.137027 -0.005010   \n",
       "BEA            -0.321477 -0.515236  1.000000 -0.048090  0.122648  0.045549   \n",
       "1              -0.027786  0.019307 -0.048090  1.000000  0.532300  0.398534   \n",
       "2              -0.161743 -0.137027  0.122648  0.532300  1.000000  0.526870   \n",
       "3               0.058656 -0.005010  0.045549  0.398534  0.526870  1.000000   \n",
       "4              -0.005524 -0.038423  0.066981  0.148221  0.276640  0.459174   \n",
       "5              -0.059475 -0.065260  0.087360  0.119599  0.231984  0.358327   \n",
       "6               0.163239  0.128362 -0.063918  0.180741  0.343259  0.488300   \n",
       "7               0.016772  0.167345 -0.058322  0.190433  0.140614  0.204738   \n",
       "IPK             0.038086  0.007366  0.027506  0.498619  0.630165  0.737372   \n",
       "Lama studi     -0.009621 -0.025145  0.037420  0.177560  0.212571  0.161753   \n",
       "\n",
       "                    4         5         6         7       IPK  Lama studi  \n",
       "Jalur masuk -0.005524 -0.059475  0.163239  0.016772  0.038086   -0.009621  \n",
       "UKT         -0.038423 -0.065260  0.128362  0.167345  0.007366   -0.025145  \n",
       "BEA          0.066981  0.087360 -0.063918 -0.058322  0.027506    0.037420  \n",
       "1            0.148221  0.119599  0.180741  0.190433  0.498619    0.177560  \n",
       "2            0.276640  0.231984  0.343259  0.140614  0.630165    0.212571  \n",
       "3            0.459174  0.358327  0.488300  0.204738  0.737372    0.161753  \n",
       "4            1.000000  0.779527  0.450784  0.514494  0.779987    0.169496  \n",
       "5            0.779527  1.000000  0.326375  0.403220  0.670270    0.189256  \n",
       "6            0.450784  0.326375  1.000000  0.234874  0.738841    0.119688  \n",
       "7            0.514494  0.403220  0.234874  1.000000  0.502039   -0.123613  \n",
       "IPK          0.779987  0.670270  0.738841  0.502039  1.000000    0.208597  \n",
       "Lama studi   0.169496  0.189256  0.119688 -0.123613  0.208597    1.000000  "
      ]
     },
     "execution_count": 4,
     "metadata": {},
     "output_type": "execute_result"
    }
   ],
   "source": [
    "data.corr()"
   ]
  },
  {
   "cell_type": "code",
   "execution_count": 5,
   "id": "67c451a4",
   "metadata": {},
   "outputs": [
    {
     "data": {
      "image/png": "[encoded data removed]",
      "text/plain": [
       "<Figure size 1500x800 with 2 Axes>"
      ]
     },
     "metadata": {},
     "output_type": "display_data"
    }
   ],
   "source": [
    "# Increase the size of the heatmap.\n",
    "plt.figure(figsize=(15, 8))\n",
    "# Store heatmap object in a variable to easily access it when you want to include more features (such as title).\n",
    "# Set the range of values to be displayed on the colormap from -1 to 1, and set the annotation to True to display the correlation values on the heatmap.\n",
    "plot=sns.heatmap(data.corr(), cmap='coolwarm', annot=True)\n",
    "# Give a title to the heatmap. Pad defines the distance of the title from the top of the heatmap.\n",
    "plot.set_title('Correlation Heatmap', fontdict={'fontsize':12}, pad=12);\n",
    "plt.savefig('correlation heatmap.png', dpi=300, bbox_inches='tight')"
   ]
  },
  {
   "cell_type": "markdown",
   "id": "f296f488",
   "metadata": {},
   "source": [
    "# data processing"
   ]
  },
  {
   "cell_type": "code",
   "execution_count": 6,
   "id": "3021e083",
   "metadata": {},
   "outputs": [],
   "source": [
    "#Get Target data \n",
    "y = data[['Lama studi']]\n",
    "\n",
    "#Load X Variables into a Pandas Dataframe with columns \n",
    "X = data.drop(['Lama studi'], axis = 1)"
   ]
  },
  {
   "cell_type": "code",
   "execution_count": 7,
   "id": "165b7c24",
   "metadata": {},
   "outputs": [
    {
     "data": {
      "text/plain": [
       "(191, 11)"
      ]
     },
     "execution_count": 7,
     "metadata": {},
     "output_type": "execute_result"
    }
   ],
   "source": [
    "X.shape"
   ]
  },
  {
   "cell_type": "code",
   "execution_count": 8,
   "id": "fad8c5f1",
   "metadata": {},
   "outputs": [
    {
     "data": {
      "text/plain": [
       "(191, 1)"
      ]
     },
     "execution_count": 8,
     "metadata": {},
     "output_type": "execute_result"
    }
   ],
   "source": [
    "y.shape"
   ]
  },
  {
   "cell_type": "code",
   "execution_count": 9,
   "id": "ef49c8df",
   "metadata": {},
   "outputs": [
    {
     "name": "stdout",
     "output_type": "stream",
     "text": [
      "   Jalur masuk  UKT  BEA     1     2     3     4     5     6     7   IPK\n",
      "0            1    4    0  3.54  3.37  3.20  3.34  3.49  3.17  3.90  3.37\n",
      "1            1    6    0  3.44  3.56  3.48  3.56  3.62  3.19  4.00  3.50\n",
      "2            2    4    0  3.69  3.61  3.38  3.71  3.51  3.22  4.00  3.54\n",
      "3            1    4    0  3.07  3.40  1.94  3.30  3.67  3.55  3.83  3.35\n",
      "4            1    4    0  3.28  3.68  3.53  3.73  3.78  3.27  4.00  3.57\n",
      "5            2    4    0  3.55  3.68  3.49  3.70  3.81  3.41  4.00  3.62\n",
      "6            2    5    0  3.72  3.76  3.60  3.73  3.78  3.83  4.00  3.74\n",
      "7            1    4    0  3.25  3.42  3.17  3.60  3.80  3.29  4.00  3.45\n",
      "8            2    3    0  3.60  3.70  3.62  3.58  3.75  3.81  4.00  3.69\n",
      "9            2    5    0  3.49  3.59  3.59  3.77  3.81  3.81  4.00  3.70\n"
     ]
    }
   ],
   "source": [
    "print(X[:10])"
   ]
  },
  {
   "cell_type": "code",
   "execution_count": 10,
   "id": "8f7a23aa",
   "metadata": {},
   "outputs": [
    {
     "name": "stdout",
     "output_type": "stream",
     "text": [
      "     Lama studi\n",
      "0           0.0\n",
      "1           5.0\n",
      "2           4.5\n",
      "3           0.0\n",
      "4           4.0\n",
      "..          ...\n",
      "186         0.0\n",
      "187         0.0\n",
      "188         4.2\n",
      "189         4.3\n",
      "190         0.0\n",
      "\n",
      "[191 rows x 1 columns]\n"
     ]
    }
   ],
   "source": [
    "print(y)"
   ]
  },
  {
   "cell_type": "markdown",
   "id": "da5538e4",
   "metadata": {},
   "source": [
    "# Model build"
   ]
  },
  {
   "cell_type": "code",
   "execution_count": 11,
   "id": "ae6379c2",
   "metadata": {},
   "outputs": [],
   "source": [
    "from sklearn.model_selection import train_test_split\n",
    "X_train,X_test,y_train,y_test = train_test_split(X,y,test_size =0.20)"
   ]
  },
  {
   "cell_type": "code",
   "execution_count": 12,
   "id": "0e42389b",
   "metadata": {},
   "outputs": [
    {
     "name": "stdout",
     "output_type": "stream",
     "text": [
      "(152, 11) (39, 11) (152, 1)\n"
     ]
    }
   ],
   "source": [
    "print(X_train.shape, X_test.shape, y_train.shape)"
   ]
  },
  {
   "cell_type": "code",
   "execution_count": 13,
   "id": "19ae0e62",
   "metadata": {},
   "outputs": [],
   "source": [
    "#Random Forest Model\n",
    "from sklearn.ensemble import RandomForestRegressor"
   ]
  },
  {
   "cell_type": "code",
   "execution_count": 14,
   "id": "61a169c3",
   "metadata": {},
   "outputs": [],
   "source": [
    "model = RandomForestRegressor(n_estimators=200, random_state = 42)"
   ]
  },
  {
   "cell_type": "code",
   "execution_count": 15,
   "id": "70d91b9f",
   "metadata": {},
   "outputs": [
    {
     "name": "stderr",
     "output_type": "stream",
     "text": [
      "C:\\Users\\Acer\\AppData\\Local\\Temp\\ipykernel_7192\\855957738.py:2: DataConversionWarning: A column-vector y was passed when a 1d array was expected. Please change the shape of y to (n_samples,), for example using ravel().\n",
      "  model.fit(X_train,y_train)\n"
     ]
    },
    {
     "data": {
      "text/plain": [
       "RandomForestRegressor(n_estimators=200, random_state=42)"
      ]
     },
     "execution_count": 15,
     "metadata": {},
     "output_type": "execute_result"
    }
   ],
   "source": [
    "#Fitting the modelm\n",
    "model.fit(X_train,y_train)"
   ]
  },
  {
   "cell_type": "code",
   "execution_count": 16,
   "id": "a1c98696",
   "metadata": {},
   "outputs": [
    {
     "name": "stderr",
     "output_type": "stream",
     "text": [
      "C:\\Users\\Acer\\AppData\\Local\\Temp\\ipykernel_7192\\3250627512.py:1: DataConversionWarning: A column-vector y was passed when a 1d array was expected. Please change the shape of y to (n_samples,), for example using ravel().\n",
      "  model.fit(X_test,y_test)\n"
     ]
    },
    {
     "data": {
      "text/plain": [
       "RandomForestRegressor(n_estimators=200, random_state=42)"
      ]
     },
     "execution_count": 16,
     "metadata": {},
     "output_type": "execute_result"
    }
   ],
   "source": [
    "model.fit(X_test,y_test)"
   ]
  },
  {
   "cell_type": "code",
   "execution_count": 17,
   "id": "29fa7989",
   "metadata": {},
   "outputs": [],
   "source": [
    "#Training the model\n",
    "from sklearn.metrics import mean_absolute_error, r2_score, mean_squared_error"
   ]
  },
  {
   "cell_type": "code",
   "execution_count": 18,
   "id": "33586276",
   "metadata": {},
   "outputs": [],
   "source": [
    "y_train_pred = model.predict(X_train)"
   ]
  },
  {
   "cell_type": "code",
   "execution_count": 28,
   "id": "433ed7fe",
   "metadata": {},
   "outputs": [
    {
     "name": "stdout",
     "output_type": "stream",
     "text": [
      "[4.18 0.   4.25 1.95 4.27 4.21 4.04 4.66 4.23 0.  ]\n"
     ]
    }
   ],
   "source": [
    "print(y_train_pred[:10])"
   ]
  },
  {
   "cell_type": "code",
   "execution_count": 19,
   "id": "1d23cc18",
   "metadata": {},
   "outputs": [],
   "source": [
    "y_test_pred = model.predict(X_test)"
   ]
  },
  {
   "cell_type": "code",
   "execution_count": 20,
   "id": "ef5df251",
   "metadata": {},
   "outputs": [
    {
     "name": "stdout",
     "output_type": "stream",
     "text": [
      "[4.002  0.85   3.578  3.876  1.3165 0.7355 3.9335 3.887  3.7325 4.207\n",
      " 3.7425 4.137  3.409  3.251  0.419  1.415  1.7475 5.4825 3.9015 0.3915\n",
      " 4.526  0.7005 4.67   3.955  4.06   0.7975 0.248  4.0835 0.8875 3.367\n",
      " 0.7635 1.4485 4.7365 3.5755 3.4585 3.801  3.39   4.073  0.9285]\n"
     ]
    }
   ],
   "source": [
    "print (y_test_pred)"
   ]
  },
  {
   "cell_type": "code",
   "execution_count": 27,
   "id": "c932a2d5",
   "metadata": {},
   "outputs": [
    {
     "name": "stdout",
     "output_type": "stream",
     "text": [
      "[4.  0.  4.  4.  0.  0.  4.5 4.  4.5 5.  5.  4.5 4.  4.  0.  0.  0.  6.5\n",
      " 4.5 0.  5.  0.  5.  5.  4.5 0.  0.  4.  0.  4.2 0.  0.  5.  4.5 4.  4.\n",
      " 4.1 4.  0. ]\n"
     ]
    }
   ],
   "source": [
    "print(y_test.values.flatten())"
   ]
  },
  {
   "cell_type": "markdown",
   "id": "a04c40b9",
   "metadata": {},
   "source": [
    "# Hyperparameter tuning"
   ]
  },
  {
   "cell_type": "code",
   "execution_count": 21,
   "id": "b554720c",
   "metadata": {},
   "outputs": [],
   "source": [
    "from pprint import pprint"
   ]
  },
  {
   "cell_type": "code",
   "execution_count": 22,
   "id": "b5170fb4",
   "metadata": {},
   "outputs": [],
   "source": [
    "#Create the param\n",
    "params = {\n",
    "'bootstrap': True,\n",
    " 'criterion': 'mse',\n",
    " 'max_depth': None,\n",
    " 'max_features': 'auto',\n",
    " 'max_leaf_nodes': None,\n",
    " 'min_impurity_decrease': 0.0,\n",
    " 'min_impurity_split': None,\n",
    " 'min_samples_leaf': 1,\n",
    " 'min_samples_split': 2,\n",
    " 'min_weight_fraction_leaf': 0.0,\n",
    " 'n_jobs': 1,\n",
    " 'oob_score': False,\n",
    " 'verbose': 0,\n",
    " 'warm_start': False}"
   ]
  },
  {
   "cell_type": "markdown",
   "id": "7e8448b2",
   "metadata": {},
   "source": [
    "# RandomizedsearchCV algorithm"
   ]
  },
  {
   "cell_type": "code",
   "execution_count": 23,
   "id": "836f7b57",
   "metadata": {},
   "outputs": [
    {
     "name": "stdout",
     "output_type": "stream",
     "text": [
      "{'bootstrap': [True, False],\n",
      " 'max_depth': [10, 20, 30, 40, 50, 60, 70, 80, 90, 100, 110, None],\n",
      " 'max_features': ['auto', 'sqrt'],\n",
      " 'min_samples_leaf': [1, 2, 4],\n",
      " 'min_samples_split': [2, 5, 10],\n",
      " 'n_estimators': [200, 400, 600, 800, 1000, 1200, 1400, 1600, 1800, 2000]}\n"
     ]
    }
   ],
   "source": [
    "from sklearn.model_selection import RandomizedSearchCV\n",
    "# Number of trees in random forest\n",
    "n_estimators = [int(x) for x in np.linspace(start = 200, stop = 2000, num = 10)]\n",
    "# Number of features to consider at every split\n",
    "max_features = ['auto', 'sqrt']\n",
    "# Maximum number of levels in tree\n",
    "max_depth = [int(x) for x in np.linspace(10, 110, num = 11)]\n",
    "max_depth.append(None)\n",
    "# Minimum number of samples required to split a node\n",
    "min_samples_split = [2, 5, 10]\n",
    "# Minimum number of samples required at each leaf node\n",
    "min_samples_leaf = [1, 2, 4]\n",
    "# Method of selecting samples for training each tree\n",
    "bootstrap = [True, False]\n",
    "# Create the random grid\n",
    "random_grid = {'n_estimators': n_estimators,\n",
    "               'max_features': max_features,\n",
    "               'max_depth': max_depth,\n",
    "               'min_samples_split': min_samples_split,\n",
    "               'min_samples_leaf': min_samples_leaf,\n",
    "               'bootstrap': bootstrap}\n",
    "pprint(random_grid)"
   ]
  },
  {
   "cell_type": "code",
   "execution_count": 24,
   "id": "ebabc789",
   "metadata": {},
   "outputs": [
    {
     "name": "stdout",
     "output_type": "stream",
     "text": [
      "Fitting 10 folds for each of 100 candidates, totalling 1000 fits\n"
     ]
    },
    {
     "name": "stderr",
     "output_type": "stream",
     "text": [
      "C:\\Users\\Acer\\anaconda3\\lib\\site-packages\\sklearn\\model_selection\\_search.py:926: DataConversionWarning: A column-vector y was passed when a 1d array was expected. Please change the shape of y to (n_samples,), for example using ravel().\n",
      "  self.best_estimator_.fit(X, y, **fit_params)\n"
     ]
    },
    {
     "data": {
      "text/plain": [
       "RandomizedSearchCV(cv=10,\n",
       "                   estimator=RandomForestRegressor(n_estimators=200,\n",
       "                                                   random_state=42),\n",
       "                   n_iter=100, n_jobs=-1,\n",
       "                   param_distributions={'bootstrap': [True, False],\n",
       "                                        'max_depth': [10, 20, 30, 40, 50, 60,\n",
       "                                                      70, 80, 90, 100, 110,\n",
       "                                                      None],\n",
       "                                        'max_features': ['auto', 'sqrt'],\n",
       "                                        'min_samples_leaf': [1, 2, 4],\n",
       "                                        'min_samples_split': [2, 5, 10],\n",
       "                                        'n_estimators': [200, 400, 600, 800,\n",
       "                                                         1000, 1200, 1400, 1600,\n",
       "                                                         1800, 2000]},\n",
       "                   random_state=42, verbose=2)"
      ]
     },
     "execution_count": 24,
     "metadata": {},
     "output_type": "execute_result"
    }
   ],
   "source": [
    "# Use the random grid to search for best hyperparameters\n",
    "# Random search of parameters, using k fold cross validation, \n",
    "# search across 100 different combinations, and use all available cores\n",
    "model = RandomizedSearchCV(estimator = model, param_distributions = random_grid, n_iter = 100, cv = 10, verbose=2, random_state=42, n_jobs = -1)\n",
    "# Fit the random search model\n",
    "model.fit(X_train,y_train)"
   ]
  },
  {
   "cell_type": "code",
   "execution_count": 25,
   "id": "72ec823a",
   "metadata": {},
   "outputs": [
    {
     "data": {
      "text/plain": [
       "{'n_estimators': 1400,\n",
       " 'min_samples_split': 5,\n",
       " 'min_samples_leaf': 4,\n",
       " 'max_features': 'sqrt',\n",
       " 'max_depth': 80,\n",
       " 'bootstrap': True}"
      ]
     },
     "execution_count": 25,
     "metadata": {},
     "output_type": "execute_result"
    }
   ],
   "source": [
    "model.best_params_"
   ]
  },
  {
   "cell_type": "code",
   "execution_count": 26,
   "id": "80a4b173",
   "metadata": {},
   "outputs": [
    {
     "name": "stdout",
     "output_type": "stream",
     "text": [
      "Model Performance\n",
      "Average Error: 0.2833 degrees.\n",
      "Accuracy = 75.68%.\n"
     ]
    }
   ],
   "source": [
    "def evaluate(model, y_test, y_test_pred):\n",
    "    predictions = model.predict(y_test)\n",
    "    errors = abs(predictions - y_test_pred)\n",
    "    mape = 100 * np.mean(errors / y_test_pred,)\n",
    "    accuracy = 100 - mape\n",
    "    print('Model Performance')\n",
    "    print('Average Error: {:0.4f} degrees.'.format(np.mean(errors)))\n",
    "    print('Accuracy = {:0.2f}%.'.format(accuracy))\n",
    "    \n",
    "    return accuracy\n",
    "model = RandomForestRegressor(n_estimators = 10, random_state = 42)\n",
    "model.fit(y_test, y_test_pred)\n",
    "model_accuracy = evaluate(model, y_test, y_test_pred)"
   ]
  },
  {
   "cell_type": "markdown",
   "id": "0d4db339",
   "metadata": {},
   "source": [
    "# GridsearchCV algorithm"
   ]
  },
  {
   "cell_type": "code",
   "execution_count": 28,
   "id": "6b3893e4",
   "metadata": {},
   "outputs": [],
   "source": [
    "from sklearn.model_selection import GridSearchCV\n",
    "# Create the parameter grid based on the results of random search \n",
    "param_grid = {\n",
    "    'bootstrap': [True],\n",
    "    'max_depth': [80, 90, 100, 110],\n",
    "    'max_features': [0, 'auto'],\n",
    "    'min_samples_leaf': [3, 4, 5],\n",
    "    'min_samples_split': [8, 10, 12],\n",
    "    'n_estimators': [100, 200, 300, 1000]\n",
    "}\n",
    "# Create a based model\n",
    "model = RandomForestRegressor()\n",
    "# Instantiate the grid search model\n",
    "grid_search = GridSearchCV(estimator = model, param_grid = param_grid, \n",
    "                          cv = 10, n_jobs = -1, verbose = 2)"
   ]
  },
  {
   "cell_type": "code",
   "execution_count": 29,
   "id": "1043d2f7",
   "metadata": {
    "scrolled": false
   },
   "outputs": [
    {
     "name": "stdout",
     "output_type": "stream",
     "text": [
      "Fitting 10 folds for each of 288 candidates, totalling 2880 fits\n"
     ]
    },
    {
     "name": "stderr",
     "output_type": "stream",
     "text": [
      "C:\\Users\\Acer\\anaconda3\\lib\\site-packages\\sklearn\\model_selection\\_validation.py:372: FitFailedWarning: \n",
      "1440 fits failed out of a total of 2880.\n",
      "The score on these train-test partitions for these parameters will be set to nan.\n",
      "If these failures are not expected, you can try to debug them by setting error_score='raise'.\n",
      "\n",
      "Below are more details about the failures:\n",
      "--------------------------------------------------------------------------------\n",
      "1440 fits failed with the following error:\n",
      "Traceback (most recent call last):\n",
      "  File \"C:\\Users\\Acer\\anaconda3\\lib\\site-packages\\sklearn\\model_selection\\_validation.py\", line 680, in _fit_and_score\n",
      "    estimator.fit(X_train, y_train, **fit_params)\n",
      "  File \"C:\\Users\\Acer\\anaconda3\\lib\\site-packages\\sklearn\\ensemble\\_forest.py\", line 450, in fit\n",
      "    trees = Parallel(\n",
      "  File \"C:\\Users\\Acer\\anaconda3\\lib\\site-packages\\joblib\\parallel.py\", line 1043, in __call__\n",
      "    if self.dispatch_one_batch(iterator):\n",
      "  File \"C:\\Users\\Acer\\anaconda3\\lib\\site-packages\\joblib\\parallel.py\", line 861, in dispatch_one_batch\n",
      "    self._dispatch(tasks)\n",
      "  File \"C:\\Users\\Acer\\anaconda3\\lib\\site-packages\\joblib\\parallel.py\", line 779, in _dispatch\n",
      "    job = self._backend.apply_async(batch, callback=cb)\n",
      "  File \"C:\\Users\\Acer\\anaconda3\\lib\\site-packages\\joblib\\_parallel_backends.py\", line 208, in apply_async\n",
      "    result = ImmediateResult(func)\n",
      "  File \"C:\\Users\\Acer\\anaconda3\\lib\\site-packages\\joblib\\_parallel_backends.py\", line 572, in __init__\n",
      "    self.results = batch()\n",
      "  File \"C:\\Users\\Acer\\anaconda3\\lib\\site-packages\\joblib\\parallel.py\", line 262, in __call__\n",
      "    return [func(*args, **kwargs)\n",
      "  File \"C:\\Users\\Acer\\anaconda3\\lib\\site-packages\\joblib\\parallel.py\", line 262, in <listcomp>\n",
      "    return [func(*args, **kwargs)\n",
      "  File \"C:\\Users\\Acer\\anaconda3\\lib\\site-packages\\sklearn\\utils\\fixes.py\", line 216, in __call__\n",
      "    return self.function(*args, **kwargs)\n",
      "  File \"C:\\Users\\Acer\\anaconda3\\lib\\site-packages\\sklearn\\ensemble\\_forest.py\", line 185, in _parallel_build_trees\n",
      "    tree.fit(X, y, sample_weight=curr_sample_weight, check_input=False)\n",
      "  File \"C:\\Users\\Acer\\anaconda3\\lib\\site-packages\\sklearn\\tree\\_classes.py\", line 1315, in fit\n",
      "    super().fit(\n",
      "  File \"C:\\Users\\Acer\\anaconda3\\lib\\site-packages\\sklearn\\tree\\_classes.py\", line 308, in fit\n",
      "    raise ValueError(\"max_features must be in (0, n_features]\")\n",
      "ValueError: max_features must be in (0, n_features]\n",
      "\n",
      "  warnings.warn(some_fits_failed_message, FitFailedWarning)\n",
      "C:\\Users\\Acer\\anaconda3\\lib\\site-packages\\sklearn\\model_selection\\_search.py:969: UserWarning: One or more of the test scores are non-finite: [       nan        nan        nan        nan        nan        nan\n",
      "        nan        nan        nan        nan        nan        nan\n",
      "        nan        nan        nan        nan        nan        nan\n",
      "        nan        nan        nan        nan        nan        nan\n",
      "        nan        nan        nan        nan        nan        nan\n",
      "        nan        nan        nan        nan        nan        nan\n",
      " 0.49788398 0.49168456 0.47397875 0.44065305 0.45295232 0.45893793\n",
      " 0.46984323 0.46044367 0.51906241 0.55030376 0.50278932 0.50614254\n",
      " 0.5784834  0.57995214 0.6003544  0.56991838 0.58199208 0.578378\n",
      " 0.59184517 0.57694574 0.58419821 0.58744266 0.62658663 0.62786252\n",
      " 0.65552124 0.59853185 0.59651705 0.60552008 0.60569663 0.61949831\n",
      " 0.61602381 0.59985198 0.62804868 0.61877784 0.64632461 0.61954596\n",
      "        nan        nan        nan        nan        nan        nan\n",
      "        nan        nan        nan        nan        nan        nan\n",
      "        nan        nan        nan        nan        nan        nan\n",
      "        nan        nan        nan        nan        nan        nan\n",
      "        nan        nan        nan        nan        nan        nan\n",
      "        nan        nan        nan        nan        nan        nan\n",
      " 0.45346774 0.44393094 0.4375557  0.46074972 0.47333582 0.47291297\n",
      " 0.49546387 0.4769681  0.52386208 0.52415681 0.52236312 0.5217942\n",
      " 0.56598773 0.58267869 0.59840488 0.58593714 0.63480615 0.56815016\n",
      " 0.59789386 0.59013859 0.63182138 0.62512569 0.63144639 0.61711576\n",
      " 0.63951486 0.60303465 0.58574325 0.59828562 0.66547791 0.63384904\n",
      " 0.60770799 0.60915299 0.61963721 0.64415363 0.65417715 0.64515116\n",
      "        nan        nan        nan        nan        nan        nan\n",
      "        nan        nan        nan        nan        nan        nan\n",
      "        nan        nan        nan        nan        nan        nan\n",
      "        nan        nan        nan        nan        nan        nan\n",
      "        nan        nan        nan        nan        nan        nan\n",
      "        nan        nan        nan        nan        nan        nan\n",
      " 0.40527156 0.48789776 0.44299043 0.45171891 0.46531974 0.456791\n",
      " 0.43046471 0.45348138 0.54870208 0.53860387 0.52135828 0.53605483\n",
      " 0.58718375 0.58485557 0.58273181 0.57800056 0.61184763 0.59221907\n",
      " 0.58173546 0.58621643 0.6294797  0.63091486 0.63685876 0.63016282\n",
      " 0.58596646 0.56325021 0.61404659 0.5957078  0.59071377 0.59938086\n",
      " 0.63338738 0.6087128  0.632517   0.61651516 0.64037534 0.63833267\n",
      "        nan        nan        nan        nan        nan        nan\n",
      "        nan        nan        nan        nan        nan        nan\n",
      "        nan        nan        nan        nan        nan        nan\n",
      "        nan        nan        nan        nan        nan        nan\n",
      "        nan        nan        nan        nan        nan        nan\n",
      "        nan        nan        nan        nan        nan        nan\n",
      " 0.43239521 0.47362668 0.47137773 0.44756597 0.42294003 0.48338319\n",
      " 0.48727306 0.45624038 0.49494153 0.50531277 0.53087836 0.51499723\n",
      " 0.61913347 0.55231575 0.57857844 0.58797222 0.57486807 0.62505871\n",
      " 0.57911474 0.56809709 0.63645446 0.6261337  0.61919736 0.60854098\n",
      " 0.56238549 0.62241019 0.56489819 0.61213979 0.63190959 0.58383936\n",
      " 0.62120701 0.60767986 0.64568255 0.64906847 0.64680044 0.6329247 ]\n",
      "  warnings.warn(\n"
     ]
    },
    {
     "data": {
      "text/plain": [
       "GridSearchCV(cv=10, estimator=RandomForestRegressor(), n_jobs=-1,\n",
       "             param_grid={'bootstrap': [True], 'max_depth': [80, 90, 100, 110],\n",
       "                         'max_features': [0, 'auto'],\n",
       "                         'min_samples_leaf': [3, 4, 5],\n",
       "                         'min_samples_split': [8, 10, 12],\n",
       "                         'n_estimators': [100, 200, 300, 1000]},\n",
       "             verbose=2)"
      ]
     },
     "execution_count": 29,
     "metadata": {},
     "output_type": "execute_result"
    }
   ],
   "source": [
    "# Fit the grid search to the data\n",
    "grid_search.fit(y_test, y_test_pred)"
   ]
  },
  {
   "cell_type": "code",
   "execution_count": 30,
   "id": "8d8a30bd",
   "metadata": {},
   "outputs": [],
   "source": [
    "best_grid = grid_search.best_estimator_"
   ]
  },
  {
   "cell_type": "code",
   "execution_count": 31,
   "id": "16b979e1",
   "metadata": {},
   "outputs": [
    {
     "name": "stdout",
     "output_type": "stream",
     "text": [
      "Model Performance\n",
      "Average Error: 0.3103 degrees.\n",
      "Accuracy = 76.00%.\n"
     ]
    }
   ],
   "source": [
    "grid_accuracy = evaluate(best_grid, y_test, y_test_pred)"
   ]
  },
  {
   "cell_type": "markdown",
   "id": "4303b77d",
   "metadata": {},
   "source": [
    "# model evaluation"
   ]
  },
  {
   "cell_type": "code",
   "execution_count": 32,
   "id": "945b5b28",
   "metadata": {},
   "outputs": [],
   "source": [
    "from sklearn import metrics\n",
    "from sklearn.metrics import mean_absolute_error, r2_score, mean_squared_error"
   ]
  },
  {
   "cell_type": "code",
   "execution_count": 33,
   "id": "c8479f76",
   "metadata": {},
   "outputs": [
    {
     "name": "stderr",
     "output_type": "stream",
     "text": [
      "C:\\Users\\Acer\\AppData\\Local\\Temp\\ipykernel_7192\\3250627512.py:1: DataConversionWarning: A column-vector y was passed when a 1d array was expected. Please change the shape of y to (n_samples,), for example using ravel().\n",
      "  model.fit(X_test,y_test)\n"
     ]
    },
    {
     "data": {
      "text/plain": [
       "RandomForestRegressor()"
      ]
     },
     "execution_count": 33,
     "metadata": {},
     "output_type": "execute_result"
    }
   ],
   "source": [
    "model.fit(X_test,y_test)"
   ]
  },
  {
   "cell_type": "code",
   "execution_count": 34,
   "id": "f5e1fd74",
   "metadata": {},
   "outputs": [
    {
     "name": "stderr",
     "output_type": "stream",
     "text": [
      "C:\\Users\\Acer\\AppData\\Local\\Temp\\ipykernel_7192\\2721349307.py:1: DataConversionWarning: A column-vector y was passed when a 1d array was expected. Please change the shape of y to (n_samples,), for example using ravel().\n",
      "  model.fit(X_train,y_train)\n"
     ]
    },
    {
     "data": {
      "text/plain": [
       "RandomForestRegressor()"
      ]
     },
     "execution_count": 34,
     "metadata": {},
     "output_type": "execute_result"
    }
   ],
   "source": [
    "model.fit(X_train,y_train)"
   ]
  },
  {
   "cell_type": "code",
   "execution_count": 35,
   "id": "61003674",
   "metadata": {},
   "outputs": [
    {
     "name": "stdout",
     "output_type": "stream",
     "text": [
      "-0.2362650065210139\n"
     ]
    }
   ],
   "source": [
    "#corelation\n",
    "print(r2_score(y_train,y_train_pred))"
   ]
  },
  {
   "cell_type": "code",
   "execution_count": 33,
   "id": "5593dd0a",
   "metadata": {},
   "outputs": [
    {
     "name": "stdout",
     "output_type": "stream",
     "text": [
      "0.36048026315789494\n"
     ]
    }
   ],
   "source": [
    "print(mean_absolute_error(y_train, y_train_pred))"
   ]
  },
  {
   "cell_type": "code",
   "execution_count": 34,
   "id": "4e004643",
   "metadata": {},
   "outputs": [
    {
     "name": "stdout",
     "output_type": "stream",
     "text": [
      "0.44090665131578954\n"
     ]
    }
   ],
   "source": [
    "print(mean_squared_error(y_train, y_train_pred))"
   ]
  },
  {
   "cell_type": "code",
   "execution_count": 35,
   "id": "a971bb20",
   "metadata": {},
   "outputs": [
    {
     "name": "stdout",
     "output_type": "stream",
     "text": [
      "0.6640080205206783\n"
     ]
    }
   ],
   "source": [
    "#RMSE\n",
    "print(np.sqrt(mean_squared_error(y_train, y_train_pred)))"
   ]
  },
  {
   "cell_type": "code",
   "execution_count": 36,
   "id": "6810d9c4",
   "metadata": {},
   "outputs": [
    {
     "name": "stdout",
     "output_type": "stream",
     "text": [
      "0.9532853332730067\n"
     ]
    }
   ],
   "source": [
    "#corelation (r^2)\n",
    "print(r2_score(y_test,y_test_pred))"
   ]
  },
  {
   "cell_type": "code",
   "execution_count": 37,
   "id": "1c0acb7c",
   "metadata": {},
   "outputs": [
    {
     "name": "stdout",
     "output_type": "stream",
     "text": [
      "0.18402564102564073\n"
     ]
    }
   ],
   "source": [
    "print(mean_absolute_error(y_test, y_test_pred))"
   ]
  },
  {
   "cell_type": "code",
   "execution_count": 38,
   "id": "458dadd7",
   "metadata": {},
   "outputs": [
    {
     "name": "stdout",
     "output_type": "stream",
     "text": [
      "0.22740429487179492\n"
     ]
    }
   ],
   "source": [
    "print(mean_squared_error(y_test, y_test_pred))"
   ]
  },
  {
   "cell_type": "code",
   "execution_count": 39,
   "id": "a0a3d52c",
   "metadata": {},
   "outputs": [
    {
     "name": "stdout",
     "output_type": "stream",
     "text": [
      "0.4768692639202016\n"
     ]
    }
   ],
   "source": [
    "#RMSE\n",
    "print(np.sqrt(mean_squared_error(y_test, y_test_pred)))"
   ]
  },
  {
   "cell_type": "code",
   "execution_count": 46,
   "id": "6cfa078d",
   "metadata": {},
   "outputs": [
    {
     "data": {
      "text/plain": [
       "array([0.  , 4.6 , 4.2 , 0.  , 0.65, 4.95, 4.55, 0.  , 0.  , 4.7 , 4.12,\n",
       "       0.  , 4.23, 4.17, 4.05, 4.45, 0.  , 0.  , 4.46, 4.8 , 0.  , 0.  ,\n",
       "       4.21, 4.  , 4.81, 0.65, 4.18, 4.3 , 4.55, 4.3 , 0.  , 4.07, 4.5 ,\n",
       "       4.4 , 3.9 , 4.3 , 4.2 , 0.  , 4.65])"
      ]
     },
     "execution_count": 46,
     "metadata": {},
     "output_type": "execute_result"
    }
   ],
   "source": [
    "y_test_pred.flatten()"
   ]
  },
  {
   "cell_type": "code",
   "execution_count": 50,
   "id": "c4002783",
   "metadata": {},
   "outputs": [],
   "source": [
    "predict=y_test_pred.flatten()"
   ]
  },
  {
   "cell_type": "code",
   "execution_count": 48,
   "id": "6e960512",
   "metadata": {},
   "outputs": [
    {
     "name": "stdout",
     "output_type": "stream",
     "text": [
      "     Gol UKT  BEA     1     2     3     4     5     6     7   IPK  Status  \\\n",
      "126        3    1  3.42  3.82  3.67  3.61  3.58  3.77  4.00  3.70       0   \n",
      "31         4    0  3.46  3.56  3.58  3.76  3.83  3.33  4.00  3.61       1   \n",
      "144        2    1  3.07  3.40  3.55  3.55  3.79  3.86  4.00  3.62       1   \n",
      "43         3    0  2.79  3.31  2.84  3.39  3.42  3.36  3.32  3.25       0   \n",
      "76         2    0  3.45  3.40  3.35  3.24  2.67  3.26  2.90  3.24       0   \n",
      "53         2    1  3.45  3.47  3.39  3.63  3.56  3.40  4.00  3.51       1   \n",
      "51         2    1  3.50  3.70  3.58  3.70  3.64  3.77  4.00  3.67       1   \n",
      "61         2    1  2.87  3.20  3.43  3.33  3.43  2.88  3.50  3.23       0   \n",
      "17         4    0  2.60  3.13  3.22  3.38  3.52  3.15  4.00  3.22       0   \n",
      "71         3    1  3.16  3.50  3.62  3.63  3.62  3.66  3.50  3.55       1   \n",
      "113        2    0  3.60  3.50  3.65  3.52  3.74  3.65  3.50  3.62       1   \n",
      "171        5    0  3.36  3.28  3.43  3.57  3.55  3.50  3.70  3.49       0   \n",
      "188        6    0  3.37  3.49  3.70  3.80  3.76  3.81  3.97  3.71       1   \n",
      "67         6    0  3.71  3.58  3.80  3.86  3.93  3.85  3.89  3.80       1   \n",
      "111        2    0  3.69  3.59  3.55  3.64  3.62  3.67  3.50  3.63       1   \n",
      "189        2    1  3.23  3.71  3.81  3.87  3.73  3.73  4.00  3.74       1   \n",
      "47         8    0  3.44  3.60  3.64  3.56  3.74  3.74  3.92  3.64       0   \n",
      "3          4    0  3.07  3.40  1.94  3.30  3.67  3.55  3.83  3.35       0   \n",
      "104        8    0  3.46  3.47  3.45  3.41  3.46  3.64  3.65  3.50       1   \n",
      "100        2    1  3.52  3.69  3.30  3.53  3.16  3.49  3.23  3.47       1   \n",
      "49         3    0  3.47  3.32  3.50  3.55  3.60  3.72  4.00  3.57       0   \n",
      "149        4    0  3.39  3.66  3.63  3.73  3.61  3.81  4.00  3.70       0   \n",
      "122        2    1  3.22  3.83  3.74  3.85  3.78  3.96  4.00  3.78       1   \n",
      "118        3    0  3.27  3.74  3.71  3.53  3.80  3.67  3.35  3.63       1   \n",
      "85         2    1  3.00  3.38  3.31  3.47  3.60  3.55  3.35  3.40       1   \n",
      "162        6    0  3.29  3.18  3.48  3.54  3.45  3.51  3.97  3.50       0   \n",
      "161        6    0  2.96  3.36  3.40  3.62  3.63  3.79  3.97  3.55       1   \n",
      "35         2    1  3.62  3.77  3.36  3.75  3.85  3.33  4.00  3.63       1   \n",
      "36         3    0  3.72  3.79  3.52  3.87  3.79  3.77  4.00  3.75       1   \n",
      "45         3    0  3.41  3.85  3.63  3.78  3.83  3.38  4.00  3.66       1   \n",
      "57         3    0  3.43  3.32  3.44  3.58  3.70  3.32  3.90  3.49       0   \n",
      "182        5    0  3.52  3.48  3.74  3.74  3.85  3.87  4.00  3.75       1   \n",
      "110        3    1  3.83  3.88  3.65  3.41  3.72  3.71  3.35  3.68       1   \n",
      "44         6    0  3.31  3.36  3.60  3.75  3.79  3.87  3.43  3.62       1   \n",
      "88         4    0  3.54  3.65  3.44  3.33  3.59  3.24  2.86  3.47       0   \n",
      "77         2    0  3.12  3.58  3.28  3.30  3.54  3.60  3.00  3.41       1   \n",
      "174        3    0  3.47  3.58  3.45  3.60  3.51  3.72  3.97  3.62       1   \n",
      "158        3    0  3.17  3.45  3.54  3.71  3.57  3.70  4.00  3.60       0   \n",
      "41         2    1  3.47  3.54  3.30  3.65  3.70  3.71  4.00  3.58       1   \n",
      "\n",
      "     AFIRMASI  MANDIRI  SNBP  SNBT  UMB-PT  \n",
      "126         0        0     0     1       0  \n",
      "31          0        0     1     0       0  \n",
      "144         0        0     1     0       0  \n",
      "43          0        0     0     1       0  \n",
      "76          0        1     0     0       0  \n",
      "53          0        0     0     1       0  \n",
      "51          0        0     1     0       0  \n",
      "61          0        0     0     1       0  \n",
      "17          0        0     0     1       0  \n",
      "71          0        0     0     1       0  \n",
      "113         0        1     0     0       0  \n",
      "171         0        0     1     0       0  \n",
      "188         0        1     0     0       0  \n",
      "67          0        0     0     1       0  \n",
      "111         0        1     0     0       0  \n",
      "189         0        0     0     1       0  \n",
      "47          0        0     0     1       0  \n",
      "3           0        0     0     1       0  \n",
      "104         0        0     1     0       0  \n",
      "100         0        0     0     1       0  \n",
      "49          0        0     0     1       0  \n",
      "149         0        0     0     1       0  \n",
      "122         0        0     1     0       0  \n",
      "118         0        0     1     0       0  \n",
      "85          0        0     0     1       0  \n",
      "162         0        1     0     0       0  \n",
      "161         0        1     0     0       0  \n",
      "35          0        0     1     0       0  \n",
      "36          0        0     1     0       0  \n",
      "45          0        0     0     1       0  \n",
      "57          0        0     0     1       0  \n",
      "182         0        0     0     1       0  \n",
      "110         0        0     1     0       0  \n",
      "44          0        1     0     0       0  \n",
      "88          0        1     0     0       0  \n",
      "77          0        0     0     1       0  \n",
      "174         0        0     1     0       0  \n",
      "158         0        0     0     1       0  \n",
      "41          0        0     0     1       0  \n"
     ]
    }
   ],
   "source": [
    "print (X_test)"
   ]
  },
  {
   "cell_type": "code",
   "execution_count": 47,
   "id": "e02bff09",
   "metadata": {},
   "outputs": [
    {
     "ename": "AttributeError",
     "evalue": "'DataFrame' object has no attribute 'flatten'",
     "output_type": "error",
     "traceback": [
      "\u001b[1;31m---------------------------------------------------------------------------\u001b[0m",
      "\u001b[1;31mAttributeError\u001b[0m                            Traceback (most recent call last)",
      "\u001b[1;32m~\\AppData\\Local\\Temp\\ipykernel_3036\\3075056858.py\u001b[0m in \u001b[0;36m<module>\u001b[1;34m\u001b[0m\n\u001b[1;32m----> 1\u001b[1;33m \u001b[0mX_test\u001b[0m\u001b[1;33m.\u001b[0m\u001b[0mflatten\u001b[0m\u001b[1;33m(\u001b[0m\u001b[1;33m)\u001b[0m\u001b[1;33m\u001b[0m\u001b[1;33m\u001b[0m\u001b[0m\n\u001b[0m",
      "\u001b[1;32m~\\anaconda3\\lib\\site-packages\\pandas\\core\\generic.py\u001b[0m in \u001b[0;36m__getattr__\u001b[1;34m(self, name)\u001b[0m\n\u001b[0;32m   5573\u001b[0m         ):\n\u001b[0;32m   5574\u001b[0m             \u001b[1;32mreturn\u001b[0m \u001b[0mself\u001b[0m\u001b[1;33m[\u001b[0m\u001b[0mname\u001b[0m\u001b[1;33m]\u001b[0m\u001b[1;33m\u001b[0m\u001b[1;33m\u001b[0m\u001b[0m\n\u001b[1;32m-> 5575\u001b[1;33m         \u001b[1;32mreturn\u001b[0m \u001b[0mobject\u001b[0m\u001b[1;33m.\u001b[0m\u001b[0m__getattribute__\u001b[0m\u001b[1;33m(\u001b[0m\u001b[0mself\u001b[0m\u001b[1;33m,\u001b[0m \u001b[0mname\u001b[0m\u001b[1;33m)\u001b[0m\u001b[1;33m\u001b[0m\u001b[1;33m\u001b[0m\u001b[0m\n\u001b[0m\u001b[0;32m   5576\u001b[0m \u001b[1;33m\u001b[0m\u001b[0m\n\u001b[0;32m   5577\u001b[0m     \u001b[1;32mdef\u001b[0m \u001b[0m__setattr__\u001b[0m\u001b[1;33m(\u001b[0m\u001b[0mself\u001b[0m\u001b[1;33m,\u001b[0m \u001b[0mname\u001b[0m\u001b[1;33m:\u001b[0m \u001b[0mstr\u001b[0m\u001b[1;33m,\u001b[0m \u001b[0mvalue\u001b[0m\u001b[1;33m)\u001b[0m \u001b[1;33m->\u001b[0m \u001b[1;32mNone\u001b[0m\u001b[1;33m:\u001b[0m\u001b[1;33m\u001b[0m\u001b[1;33m\u001b[0m\u001b[0m\n",
      "\u001b[1;31mAttributeError\u001b[0m: 'DataFrame' object has no attribute 'flatten'"
     ]
    }
   ],
   "source": [
    "X_test.flatten()"
   ]
  },
  {
   "cell_type": "code",
   "execution_count": 52,
   "id": "57384a8e",
   "metadata": {},
   "outputs": [],
   "source": [
    "training=y_train_pred.flatten()"
   ]
  },
  {
   "cell_type": "code",
   "execution_count": 45,
   "id": "e4de9571",
   "metadata": {},
   "outputs": [
    {
     "ename": "SyntaxError",
     "evalue": "positional argument follows keyword argument (1993012113.py, line 2)",
     "output_type": "error",
     "traceback": [
      "\u001b[1;36m  File \u001b[1;32m\"C:\\Users\\Acer\\AppData\\Local\\Temp\\ipykernel_3036\\1993012113.py\"\u001b[1;36m, line \u001b[1;32m2\u001b[0m\n\u001b[1;33m    fig = plt.figure(figsize= 8,10)\u001b[0m\n\u001b[1;37m                                  ^\u001b[0m\n\u001b[1;31mSyntaxError\u001b[0m\u001b[1;31m:\u001b[0m positional argument follows keyword argument\n"
     ]
    }
   ],
   "source": [
    "#Plotting\n",
    "fig = plt.figure(figsize= 8,10)\n",
    "ax.scatter(X_train[:,0],X_train[:,1],y_train, c ='red', alpha=.5, marker='o')\n",
    "ax.set_xlabel('Prediction')\n",
    "ax.set_ylabel('Actual')\n",
    "plt.show()"
   ]
  },
  {
   "cell_type": "code",
   "execution_count": 40,
   "id": "e4f1c973",
   "metadata": {},
   "outputs": [
    {
     "name": "stderr",
     "output_type": "stream",
     "text": [
      "C:\\Users\\Acer\\anaconda3\\lib\\site-packages\\yellowbrick\\base.py:390: DataConversionWarning: A column-vector y was passed when a 1d array was expected. Please change the shape of y to (n_samples,), for example using ravel().\n",
      "  self.estimator.fit(X, y, **kwargs)\n"
     ]
    },
    {
     "ename": "TypeError",
     "evalue": "'<' not supported between instances of 'numpy.ndarray' and 'str'",
     "output_type": "error",
     "traceback": [
      "\u001b[1;31m---------------------------------------------------------------------------\u001b[0m",
      "\u001b[1;31mTypeError\u001b[0m                                 Traceback (most recent call last)",
      "\u001b[1;32m~\\AppData\\Local\\Temp\\ipykernel_13744\\741852514.py\u001b[0m in \u001b[0;36m<module>\u001b[1;34m\u001b[0m\n\u001b[0;32m      5\u001b[0m \u001b[0mvisualizer\u001b[0m \u001b[1;33m=\u001b[0m \u001b[0mPredictionError\u001b[0m\u001b[1;33m(\u001b[0m\u001b[0mmodel\u001b[0m\u001b[1;33m)\u001b[0m\u001b[1;33m\u001b[0m\u001b[1;33m\u001b[0m\u001b[0m\n\u001b[0;32m      6\u001b[0m \u001b[0mvisualizer\u001b[0m\u001b[1;33m.\u001b[0m\u001b[0mfit\u001b[0m\u001b[1;33m(\u001b[0m\u001b[0mX_train\u001b[0m\u001b[1;33m,\u001b[0m \u001b[0my_train\u001b[0m\u001b[1;33m)\u001b[0m\u001b[1;33m\u001b[0m\u001b[1;33m\u001b[0m\u001b[0m\n\u001b[1;32m----> 7\u001b[1;33m \u001b[0mvisualizer\u001b[0m\u001b[1;33m.\u001b[0m\u001b[0mscore\u001b[0m\u001b[1;33m(\u001b[0m\u001b[0mX_test\u001b[0m\u001b[1;33m,\u001b[0m \u001b[0my_test\u001b[0m\u001b[1;33m)\u001b[0m\u001b[1;33m\u001b[0m\u001b[1;33m\u001b[0m\u001b[0m\n\u001b[0m\u001b[0;32m      8\u001b[0m \u001b[0mvisualizer\u001b[0m\u001b[1;33m.\u001b[0m\u001b[0mpoof\u001b[0m\u001b[1;33m(\u001b[0m\u001b[1;33m)\u001b[0m\u001b[1;33m\u001b[0m\u001b[1;33m\u001b[0m\u001b[0m\n",
      "\u001b[1;32m~\\anaconda3\\lib\\site-packages\\yellowbrick\\regressor\\prediction_error.py\u001b[0m in \u001b[0;36mscore\u001b[1;34m(self, X, y, **kwargs)\u001b[0m\n\u001b[0;32m    166\u001b[0m \u001b[1;33m\u001b[0m\u001b[0m\n\u001b[0;32m    167\u001b[0m         \u001b[0my_pred\u001b[0m \u001b[1;33m=\u001b[0m \u001b[0mself\u001b[0m\u001b[1;33m.\u001b[0m\u001b[0mpredict\u001b[0m\u001b[1;33m(\u001b[0m\u001b[0mX\u001b[0m\u001b[1;33m)\u001b[0m\u001b[1;33m\u001b[0m\u001b[1;33m\u001b[0m\u001b[0m\n\u001b[1;32m--> 168\u001b[1;33m         \u001b[0mself\u001b[0m\u001b[1;33m.\u001b[0m\u001b[0mdraw\u001b[0m\u001b[1;33m(\u001b[0m\u001b[0my\u001b[0m\u001b[1;33m,\u001b[0m \u001b[0my_pred\u001b[0m\u001b[1;33m)\u001b[0m\u001b[1;33m\u001b[0m\u001b[1;33m\u001b[0m\u001b[0m\n\u001b[0m\u001b[0;32m    169\u001b[0m \u001b[1;33m\u001b[0m\u001b[0m\n\u001b[0;32m    170\u001b[0m         \u001b[1;32mreturn\u001b[0m \u001b[0mself\u001b[0m\u001b[1;33m.\u001b[0m\u001b[0mscore_\u001b[0m\u001b[1;33m\u001b[0m\u001b[1;33m\u001b[0m\u001b[0m\n",
      "\u001b[1;32m~\\anaconda3\\lib\\site-packages\\yellowbrick\\regressor\\prediction_error.py\u001b[0m in \u001b[0;36mdraw\u001b[1;34m(self, y, y_pred)\u001b[0m\n\u001b[0;32m    223\u001b[0m         \u001b[1;31m# NOTE: shared_limits will be accounted for in finalize()\u001b[0m\u001b[1;33m\u001b[0m\u001b[1;33m\u001b[0m\u001b[0m\n\u001b[0;32m    224\u001b[0m         \u001b[1;32mif\u001b[0m \u001b[0mself\u001b[0m\u001b[1;33m.\u001b[0m\u001b[0mshared_limits\u001b[0m \u001b[1;32mis\u001b[0m \u001b[1;32mTrue\u001b[0m\u001b[1;33m:\u001b[0m\u001b[1;33m\u001b[0m\u001b[1;33m\u001b[0m\u001b[0m\n\u001b[1;32m--> 225\u001b[1;33m             \u001b[0mself\u001b[0m\u001b[1;33m.\u001b[0m\u001b[0max\u001b[0m\u001b[1;33m.\u001b[0m\u001b[0mset_xlim\u001b[0m\u001b[1;33m(\u001b[0m\u001b[0mmin\u001b[0m\u001b[1;33m(\u001b[0m\u001b[0mmin\u001b[0m\u001b[1;33m(\u001b[0m\u001b[0my\u001b[0m\u001b[1;33m)\u001b[0m\u001b[1;33m,\u001b[0m \u001b[0mmin\u001b[0m\u001b[1;33m(\u001b[0m\u001b[0my_pred\u001b[0m\u001b[1;33m)\u001b[0m\u001b[1;33m)\u001b[0m\u001b[1;33m,\u001b[0m \u001b[0mmax\u001b[0m\u001b[1;33m(\u001b[0m\u001b[0mmax\u001b[0m\u001b[1;33m(\u001b[0m\u001b[0my\u001b[0m\u001b[1;33m)\u001b[0m\u001b[1;33m,\u001b[0m \u001b[0mmax\u001b[0m\u001b[1;33m(\u001b[0m\u001b[0my_pred\u001b[0m\u001b[1;33m)\u001b[0m\u001b[1;33m)\u001b[0m\u001b[1;33m)\u001b[0m\u001b[1;33m\u001b[0m\u001b[1;33m\u001b[0m\u001b[0m\n\u001b[0m\u001b[0;32m    226\u001b[0m             \u001b[0mself\u001b[0m\u001b[1;33m.\u001b[0m\u001b[0max\u001b[0m\u001b[1;33m.\u001b[0m\u001b[0mset_ylim\u001b[0m\u001b[1;33m(\u001b[0m\u001b[0mself\u001b[0m\u001b[1;33m.\u001b[0m\u001b[0max\u001b[0m\u001b[1;33m.\u001b[0m\u001b[0mget_xlim\u001b[0m\u001b[1;33m(\u001b[0m\u001b[1;33m)\u001b[0m\u001b[1;33m)\u001b[0m\u001b[1;33m\u001b[0m\u001b[1;33m\u001b[0m\u001b[0m\n\u001b[0;32m    227\u001b[0m \u001b[1;33m\u001b[0m\u001b[0m\n",
      "\u001b[1;31mTypeError\u001b[0m: '<' not supported between instances of 'numpy.ndarray' and 'str'"
     ]
    },
    {
     "data": {
      "image/png": "[encoded data removed]",
      "text/plain": [
       "<Figure size 800x550 with 1 Axes>"
      ]
     },
     "metadata": {},
     "output_type": "display_data"
    }
   ],
   "source": [
    "#Plotting\n",
    "from yellowbrick.regressor import PredictionError\n",
    "model = RandomForestRegressor()\n",
    "\n",
    "visualizer = PredictionError(model)\n",
    "visualizer.fit(X_train, y_train)\n",
    "visualizer.score(X_test, y_test)\n",
    "visualizer.poof()"
   ]
  },
  {
   "cell_type": "code",
   "execution_count": null,
   "id": "8f82b5d9",
   "metadata": {},
   "outputs": [],
   "source": []
  }
 ],
 "metadata": {
  "kernelspec": {
   "display_name": "Python 3 (ipykernel)",
   "language": "python",
   "name": "python3"
  },
  "language_info": {
   "codemirror_mode": {
    "name": "ipython",
    "version": 3
   },
   "file_extension": ".py",
   "mimetype": "text/x-python",
   "name": "python",
   "nbconvert_exporter": "python",
   "pygments_lexer": "ipython3",
   "version": "3.9.13"
  }
 },
 "nbformat": 4,
 "nbformat_minor": 5
}
